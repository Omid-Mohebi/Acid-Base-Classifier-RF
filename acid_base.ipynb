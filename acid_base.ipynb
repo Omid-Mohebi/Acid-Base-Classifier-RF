{
  "nbformat": 4,
  "nbformat_minor": 0,
  "metadata": {
    "colab": {
      "provenance": []
    },
    "kernelspec": {
      "name": "python3",
      "display_name": "Python 3"
    },
    "language_info": {
      "name": "python"
    }
  },
  "cells": [
    {
      "cell_type": "code",
      "execution_count": 1,
      "metadata": {
        "colab": {
          "base_uri": "https://localhost:8080/"
        },
        "id": "sV9adf_6UMDp",
        "outputId": "f1fc2656-0e0f-4082-988e-7f386dee286d"
      },
      "outputs": [
        {
          "output_type": "stream",
          "name": "stdout",
          "text": [
            "Collecting rdkit\n",
            "  Downloading rdkit-2025.3.6-cp312-cp312-manylinux_2_28_x86_64.whl.metadata (4.1 kB)\n",
            "Requirement already satisfied: joblib in /usr/local/lib/python3.12/dist-packages (1.5.2)\n",
            "Requirement already satisfied: requests in /usr/local/lib/python3.12/dist-packages (2.32.4)\n",
            "Requirement already satisfied: tqdm in /usr/local/lib/python3.12/dist-packages (4.67.1)\n",
            "Requirement already satisfied: numpy in /usr/local/lib/python3.12/dist-packages (from rdkit) (2.0.2)\n",
            "Requirement already satisfied: Pillow in /usr/local/lib/python3.12/dist-packages (from rdkit) (11.3.0)\n",
            "Requirement already satisfied: charset_normalizer<4,>=2 in /usr/local/lib/python3.12/dist-packages (from requests) (3.4.3)\n",
            "Requirement already satisfied: idna<4,>=2.5 in /usr/local/lib/python3.12/dist-packages (from requests) (3.10)\n",
            "Requirement already satisfied: urllib3<3,>=1.21.1 in /usr/local/lib/python3.12/dist-packages (from requests) (2.5.0)\n",
            "Requirement already satisfied: certifi>=2017.4.17 in /usr/local/lib/python3.12/dist-packages (from requests) (2025.8.3)\n",
            "Downloading rdkit-2025.3.6-cp312-cp312-manylinux_2_28_x86_64.whl (36.1 MB)\n",
            "\u001b[2K   \u001b[90m━━━━━━━━━━━━━━━━━━━━━━━━━━━━━━━━━━━━━━━━\u001b[0m \u001b[32m36.1/36.1 MB\u001b[0m \u001b[31m54.1 MB/s\u001b[0m eta \u001b[36m0:00:00\u001b[0m\n",
            "\u001b[?25hInstalling collected packages: rdkit\n",
            "Successfully installed rdkit-2025.3.6\n"
          ]
        }
      ],
      "source": [
        "%pip install rdkit joblib requests tqdm"
      ]
    },
    {
      "cell_type": "code",
      "source": [
        "import pandas as pd\n",
        "import numpy as np\n",
        "import matplotlib.pyplot as plt\n",
        "import seaborn as sns\n",
        "from rdkit import Chem\n",
        "from rdkit.Chem import Descriptors, AllChem\n",
        "from sklearn.model_selection import train_test_split, cross_val_score\n",
        "from sklearn.ensemble import RandomForestClassifier\n",
        "from sklearn.metrics import classification_report, confusion_matrix, roc_curve, auc\n",
        "from sklearn.preprocessing import StandardScaler\n",
        "import joblib\n",
        "import warnings\n",
        "import time\n",
        "warnings.filterwarnings('ignore')"
      ],
      "metadata": {
        "id": "SGONqnJAlvaU"
      },
      "execution_count": 15,
      "outputs": []
    },
    {
      "cell_type": "code",
      "source": [
        "def load_dataset():\n",
        "    data = {\n",
        "        'smiles': [\n",
        "            # Carboxylic Acids\n",
        "            'CC(=O)O', 'C(=O)O', 'CCC(=O)O', 'CCCC(=O)O', 'CCCCC(=O)O',\n",
        "            'CC(C)C(=O)O', 'CC(C)(C)C(=O)O', 'CCCCCCCC(=O)O', 'CCC(C)C(=O)O',\n",
        "            'CC(C)CC(=O)O', 'CCCCCCCCCCCC(=O)O', 'C=CC(=O)O', 'CC(Cl)C(=O)O',\n",
        "            # Aromatic Carboxylic Acids\n",
        "            'C1=CC=CC=C1C(=O)O', 'C1=CC(=CC=C1C(=O)O)O', 'C1=CC=C(C=C1)C(=O)O',\n",
        "            'C1=CC=C(C(=C1)C(=O)O)O', 'C1=CC=C2C(=C1)C=CC=C2C(=O)O',\n",
        "            # Dicarboxylic Acids\n",
        "            'C(C(=O)O)C(=O)O', 'C(CC(=O)O)C(=O)O', 'C(CCC(=O)O)C(=O)O',\n",
        "            'CC(CC(=O)O)C(=O)O', 'OC(=O)C(O)C(O)C(=O)O',\n",
        "            # Hydroxy Acids\n",
        "            'CC(O)C(=O)O', 'O=C(O)CO', 'CC(O)(C(=O)O)C(=O)O',\n",
        "            # Sulfonic and Phosphoric Acids\n",
        "            'O=S(=O)(O)O', 'O=P(O)(O)O', 'C1=CC=C(C=C1)S(=O)(=O)O',\n",
        "            'CS(=O)(=O)O', 'CC(=O)CS(=O)(=O)O',\n",
        "            # Phenols\n",
        "            'C1=CC=C(C=C1)O', 'CC1=CC=C(C=C1)O', 'CC(C)C1=CC=C(C=C1)O',\n",
        "            # Keto Acids\n",
        "            'CC(=O)C(=O)O', 'CC(=O)C(C)C(=O)O', 'O=C(O)C(=O)C(=O)O',\n",
        "\n",
        "            # Primary Amines (Bases)\n",
        "            'CCN', 'CCCN', 'CCCCN', 'CCCCCCN', 'CN', 'CC(C)N',\n",
        "            'C1CCCCC1N', 'CC(C)(C)N',\n",
        "            # Secondary Amines\n",
        "            'CNC', 'CNCC', 'CCNC', 'CCCNC', 'C1CCNCC1',\n",
        "            # Tertiary Amines\n",
        "            'CN(C)C', 'CCN(CC)CC', 'CN(C)CC', 'CN(CC)CC',\n",
        "            # Diamines\n",
        "            'NCCN', 'NCCCN', 'NCCCCN', 'C1CNCCN1',\n",
        "            # Aromatic Amines\n",
        "            'C1=CC=C(C=C1)N', 'C1=CC=C(N)C=C1', 'C1=CC=C(C=C1)NC',\n",
        "            'CC1=CC=C(C=C1)N', 'C1=CC2=C(C=C1)NC=N2',\n",
        "            # Pyridines and Related\n",
        "            'C1=CC=NC=C1', 'C1=CC=CC=N1', 'C1=CN=CC=C1', 'C1=NC=CN1',\n",
        "            'CC1=CC=NC=C1', 'C1=CC(=NC=C1)N', 'C1=NC2=C(N1)C=NC=N2',\n",
        "            # Imidazoles\n",
        "            'C1=CN=CN1', 'CC1=NC=CN1', 'C1=C(NC=N1)C',\n",
        "            # Guanidines and Amidines\n",
        "            'NC(N)=N', 'NC(=N)N', 'CC(=N)N',\n",
        "            # Amino Alcohols\n",
        "            'NCCO', 'NCC(C)O', 'C(CO)N',\n",
        "            # Heterocyclic Amines\n",
        "            'C1CCNC1', 'C1COCCN1', 'C1COCCO1',\n",
        "            # Aniline Derivatives\n",
        "            'C1=CC=C(C=C1)NCC', 'C1=CC=C(C=C1)N(C)C',\n",
        "        ],\n",
        "        'label': [\n",
        "            # Acids (0) - 40 acids\n",
        "            0, 0, 0, 0, 0, 0, 0, 0, 0, 0, 0, 0, 0,  # Carboxylic\n",
        "            0, 0, 0, 0, 0,  # Aromatic carboxylic\n",
        "            0, 0, 0, 0, 0,  # Dicarboxylic\n",
        "            0, 0, 0,  # Hydroxy acids\n",
        "            0, 0, 0, 0, 0,  # Sulfonic/Phosphoric\n",
        "            0, 0, 0,  # Phenols\n",
        "            0, 0, 0,  # Keto acids\n",
        "\n",
        "            # Bases (1) - 60 bases\n",
        "            1, 1, 1, 1, 1, 1, 1, 1,  # Primary amines\n",
        "            1, 1, 1, 1, 1,  # Secondary amines\n",
        "            1, 1, 1, 1,  # Tertiary amines\n",
        "            1, 1, 1, 1,  # Diamines\n",
        "            1, 1, 1, 1, 1,  # Aromatic amines\n",
        "            1, 1, 1, 1, 1, 1, 1,  # Pyridines\n",
        "            1, 1, 1,  # Imidazoles\n",
        "            1, 1, 1,  # Guanidines\n",
        "            1, 1, 1,  # Amino alcohols\n",
        "            1, 1, 1,  # Heterocyclic\n",
        "            1, 1,  # Aniline derivatives\n",
        "        ]\n",
        "    }\n",
        "\n",
        "    df = pd.DataFrame(data)\n",
        "    df['class'] = df['label'].map({0: 'Acid', 1: 'Base'})\n",
        "\n",
        "    print(f\"\\nusing curated dataset with {len(df)} molecules\")\n",
        "    return df\n",
        "\n",
        "df = load_dataset()\n",
        "\n",
        "print(f\"\\ndataset statistics:\")\n",
        "print(f\"total molecules: {len(df)}\")\n",
        "print(f\"acids: {sum(df['label']==0)} ({sum(df['label']==0)/len(df)*100:.1f}%)\")\n",
        "print(f\"bases: {sum(df['label']==1)} ({sum(df['label']==1)/len(df)*100:.1f}%)\")\n",
        "print(\"\\nsample molecules:\")\n",
        "print(df[['smiles', 'class']].head(10))"
      ],
      "metadata": {
        "colab": {
          "base_uri": "https://localhost:8080/"
        },
        "id": "yTvq6_Edl2rO",
        "outputId": "0fc00a21-d9bb-4d3f-a50d-20c6ca7a4767"
      },
      "execution_count": 4,
      "outputs": [
        {
          "output_type": "stream",
          "name": "stdout",
          "text": [
            "\n",
            "using curated dataset with 84 molecules\n",
            "\n",
            "dataset statistics:\n",
            "total molecules: 84\n",
            "acids: 37 (44.0%)\n",
            "bases: 47 (56.0%)\n",
            "\n",
            "sample molecules:\n",
            "           smiles class\n",
            "0         CC(=O)O  Acid\n",
            "1          C(=O)O  Acid\n",
            "2        CCC(=O)O  Acid\n",
            "3       CCCC(=O)O  Acid\n",
            "4      CCCCC(=O)O  Acid\n",
            "5     CC(C)C(=O)O  Acid\n",
            "6  CC(C)(C)C(=O)O  Acid\n",
            "7   CCCCCCCC(=O)O  Acid\n",
            "8    CCC(C)C(=O)O  Acid\n",
            "9    CC(C)CC(=O)O  Acid\n"
          ]
        }
      ]
    },
    {
      "cell_type": "code",
      "source": [
        "def extract_features(smiles):\n",
        "    mol = Chem.MolFromSmiles(smiles)\n",
        "    if mol is None:\n",
        "        return None\n",
        "\n",
        "    features = {\n",
        "        'MolWt': Descriptors.MolWt(mol),\n",
        "        'LogP': Descriptors.MolLogP(mol),\n",
        "        'NumHDonors': Descriptors.NumHDonors(mol),\n",
        "        'NumHAcceptors': Descriptors.NumHAcceptors(mol),\n",
        "        'TPSA': Descriptors.TPSA(mol),\n",
        "        'NumRotatableBonds': Descriptors.NumRotatableBonds(mol),\n",
        "        'NumAromaticRings': Descriptors.NumAromaticRings(mol),\n",
        "        'NumSaturatedRings': Descriptors.NumSaturatedRings(mol),\n",
        "        'NumAliphaticRings': Descriptors.NumAliphaticRings(mol),\n",
        "        'RingCount': Descriptors.RingCount(mol),\n",
        "        'FractionCSP3': Descriptors.FractionCSP3(mol),\n",
        "        'NumHeteroatoms': Descriptors.NumHeteroatoms(mol),\n",
        "    }\n",
        "    return features\n",
        "\n",
        "features_list = []\n",
        "for smiles in df['smiles']:\n",
        "    feat = extract_features(smiles)\n",
        "    if feat:\n",
        "        features_list.append(feat)\n",
        "    else:\n",
        "        features_list.append({k: 0 for k in features_list[0].keys()})\n",
        "\n",
        "features_df = pd.DataFrame(features_list)\n",
        "print(f\"\\nextracted {len(features_df.columns)} features:\")\n",
        "print(features_df.columns.tolist())\n",
        "print(\"\\nfeature statistics:\")\n",
        "print(features_df.describe())"
      ],
      "metadata": {
        "colab": {
          "base_uri": "https://localhost:8080/"
        },
        "id": "n6PaZeuBmoqD",
        "outputId": "6544f7ea-c843-4d8f-a92f-637116c337fe"
      },
      "execution_count": 5,
      "outputs": [
        {
          "output_type": "stream",
          "name": "stdout",
          "text": [
            "\n",
            "extracted 12 features:\n",
            "['MolWt', 'LogP', 'NumHDonors', 'NumHAcceptors', 'TPSA', 'NumRotatableBonds', 'NumAromaticRings', 'NumSaturatedRings', 'NumAliphaticRings', 'RingCount', 'FractionCSP3', 'NumHeteroatoms']\n",
            "\n",
            "feature statistics:\n",
            "            MolWt       LogP  NumHDonors  NumHAcceptors        TPSA  \\\n",
            "count   84.000000  84.000000   84.000000      84.000000   84.000000   \n",
            "mean    93.884048   0.471148    1.226190       1.404762   37.811190   \n",
            "std     30.825157   1.042457    0.766013       0.642267   23.516921   \n",
            "min     31.058000  -2.122600    0.000000       1.000000    3.240000   \n",
            "25%     73.139000  -0.322000    1.000000       1.000000   21.002500   \n",
            "50%     89.116000   0.445350    1.000000       1.000000   37.300000   \n",
            "75%    110.422000   1.117100    2.000000       2.000000   52.622500   \n",
            "max    200.322000   3.991900    4.000000       4.000000  115.060000   \n",
            "\n",
            "       NumRotatableBonds  NumAromaticRings  NumSaturatedRings  \\\n",
            "count          84.000000         84.000000          84.000000   \n",
            "mean            1.095238          0.345238           0.071429   \n",
            "std             1.541546          0.548691           0.259086   \n",
            "min             0.000000          0.000000           0.000000   \n",
            "25%             0.000000          0.000000           0.000000   \n",
            "50%             1.000000          0.000000           0.000000   \n",
            "75%             2.000000          1.000000           0.000000   \n",
            "max            10.000000          2.000000           1.000000   \n",
            "\n",
            "       NumAliphaticRings  RingCount  FractionCSP3  NumHeteroatoms  \n",
            "count          84.000000  84.000000     84.000000       84.000000  \n",
            "mean            0.071429   0.416667      0.530400        2.130952  \n",
            "std             0.259086   0.564157      0.420697        1.239702  \n",
            "min             0.000000   0.000000      0.000000        1.000000  \n",
            "25%             0.000000   0.000000      0.000000        1.000000  \n",
            "50%             0.000000   0.000000      0.600000        2.000000  \n",
            "75%             0.000000   1.000000      1.000000        3.000000  \n",
            "max             1.000000   2.000000      1.000000        6.000000  \n"
          ]
        }
      ]
    },
    {
      "cell_type": "code",
      "source": [
        "plt.figure(figsize=(7, 6))\n",
        "\n",
        "class_counts = df['class'].value_counts()\n",
        "plt.bar(class_counts.index, class_counts.values, color=['#ff6b6b', '#4ecdc4'])\n",
        "plt.title('Class Distribution', fontsize=14, fontweight='bold')\n",
        "plt.ylabel('Count')\n",
        "plt.grid(axis='y', alpha=0.3)\n",
        "plt.tight_layout()\n",
        "plt.show()"
      ],
      "metadata": {
        "colab": {
          "base_uri": "https://localhost:8080/",
          "height": 606
        },
        "id": "ikFBZw8zmuwC",
        "outputId": "2453ac15-bba8-41dd-e3a5-9fdb13142ab2"
      },
      "execution_count": 12,
      "outputs": [
        {
          "output_type": "display_data",
          "data": {
            "text/plain": [
              "<Figure size 700x600 with 1 Axes>"
            ],
            "image/png": "[encoded data removed]"
          },
          "metadata": {}
        }
      ]
    },
    {
      "cell_type": "code",
      "source": [
        "X = features_df\n",
        "y = df['label']\n",
        "\n",
        "X_train, X_test, y_train, y_test = train_test_split(\n",
        "    X, y, test_size=0.2, random_state=42, stratify=y\n",
        ")\n",
        "\n",
        "scaler = StandardScaler()\n",
        "X_train_scaled = scaler.fit_transform(X_train)\n",
        "X_test_scaled = scaler.transform(X_test)\n",
        "\n",
        "print(\"\\ntraining random forest...\")\n",
        "model = RandomForestClassifier(\n",
        "    n_estimators=200,\n",
        "    max_depth=10,\n",
        "    min_samples_split=5,\n",
        "    min_samples_leaf=2,\n",
        "    random_state=42,\n",
        "    n_jobs=-1\n",
        ")\n",
        "\n",
        "model.fit(X_train_scaled, y_train)\n",
        "\n",
        "cv_scores = cross_val_score(model, X_train_scaled, y_train, cv=5)\n",
        "print(f\"\\ncross-validation scores: {cv_scores}\")\n",
        "print(f\"mean cv score: {cv_scores.mean():.4f} (+/- {cv_scores.std():.4f})\")\n",
        "\n",
        "y_pred = model.predict(X_test_scaled)\n",
        "y_pred_proba = model.predict_proba(X_test_scaled)\n",
        "\n",
        "print(\"\\nclassification report:\")\n",
        "print(classification_report(y_test, y_pred, target_names=['Acid', 'Base']))"
      ],
      "metadata": {
        "colab": {
          "base_uri": "https://localhost:8080/"
        },
        "id": "z5dMRIZ4nI3N",
        "outputId": "150c9f2e-e1ab-4db9-bc52-c58b9f23204b"
      },
      "execution_count": 13,
      "outputs": [
        {
          "output_type": "stream",
          "name": "stdout",
          "text": [
            "\n",
            "training random forest...\n",
            "\n",
            "cross-validation scores: [0.85714286 0.78571429 0.76923077 0.84615385 1.        ]\n",
            "mean cv score: 0.8516 (+/- 0.0815)\n",
            "\n",
            "classification report:\n",
            "              precision    recall  f1-score   support\n",
            "\n",
            "        Acid       0.70      1.00      0.82         7\n",
            "        Base       1.00      0.70      0.82        10\n",
            "\n",
            "    accuracy                           0.82        17\n",
            "   macro avg       0.85      0.85      0.82        17\n",
            "weighted avg       0.88      0.82      0.82        17\n",
            "\n"
          ]
        }
      ]
    },
    {
      "cell_type": "code",
      "source": [
        "joblib.dump(model, 'acid_base_model.pkl')\n",
        "joblib.dump(scaler, 'scaler.pkl')\n",
        "\n",
        "def predict_molecule(smiles_string):\n",
        "    model = joblib.load('acid_base_model.pkl')\n",
        "    scaler = joblib.load('scaler.pkl')\n",
        "\n",
        "    mol = Chem.MolFromSmiles(smiles_string)\n",
        "    if mol is None:\n",
        "        return {\"error\": \"invalid SMILES string\"}\n",
        "\n",
        "    features = extract_features(smiles_string)\n",
        "    if features is None:\n",
        "        return {\"error\": \"could not extract features\"}\n",
        "\n",
        "    feature_vector = np.array(list(features.values())).reshape(1, -1)\n",
        "    feature_vector_scaled = scaler.transform(feature_vector)\n",
        "\n",
        "    prediction = model.predict(feature_vector_scaled)[0]\n",
        "    probabilities = model.predict_proba(feature_vector_scaled)[0]\n",
        "\n",
        "    result = {\n",
        "        \"smiles\": smiles_string,\n",
        "        \"prediction\": \"Acid\" if prediction == 0 else \"Base\",\n",
        "        \"confidence\": float(max(probabilities) * 100),\n",
        "        \"acid_probability\": float(probabilities[0] * 100),\n",
        "        \"base_probability\": float(probabilities[1] * 100),\n",
        "        \"molecular_weight\": features['MolWt'],\n",
        "        \"logP\": features['LogP']\n",
        "    }\n",
        "\n",
        "    return result\n",
        "\n",
        "\n",
        "test_molecules = [\n",
        "    (\"CC(=O)O\", \"Acetic acid\"),\n",
        "    (\"CCN\", \"Ethylamine\"),\n",
        "    (\"C1=CC=CC=C1C(=O)O\", \"Benzoic acid\"),\n",
        "    (\"C1CCNCC1\", \"Piperidine\"),\n",
        "]\n",
        "\n",
        "print(\"\\nTesting molecules:\\n\")\n",
        "for smiles, name in test_molecules:\n",
        "    result = predict_molecule(smiles)\n",
        "    print(f\"molecule: {name}\")\n",
        "    print(f\"SMILES: {smiles}\")\n",
        "    print(f\"prediction: {result['prediction']}\")\n",
        "    print(f\"confidence: {result['confidence']:.2f}%\")\n",
        "    print(f\"acid probability: {result['acid_probability']:.2f}%\")\n",
        "    print(f\"base probability: {result['base_probability']:.2f}%\")\n",
        "    print(' ')"
      ],
      "metadata": {
        "colab": {
          "base_uri": "https://localhost:8080/"
        },
        "id": "W_e8SrKGoZWC",
        "outputId": "8cabc9c3-fb0a-4663-eb35-ece0ee861462"
      },
      "execution_count": 14,
      "outputs": [
        {
          "output_type": "stream",
          "name": "stdout",
          "text": [
            "\n",
            "Testing molecules:\n",
            "\n",
            "molecule: Acetic acid\n",
            "SMILES: CC(=O)O\n",
            "prediction: Acid\n",
            "confidence: 82.74%\n",
            "acid probability: 82.74%\n",
            "base probability: 17.26%\n",
            " \n",
            "molecule: Ethylamine\n",
            "SMILES: CCN\n",
            "prediction: Base\n",
            "confidence: 96.72%\n",
            "acid probability: 3.28%\n",
            "base probability: 96.72%\n",
            " \n",
            "molecule: Benzoic acid\n",
            "SMILES: C1=CC=CC=C1C(=O)O\n",
            "prediction: Acid\n",
            "confidence: 86.61%\n",
            "acid probability: 86.61%\n",
            "base probability: 13.39%\n",
            " \n",
            "molecule: Piperidine\n",
            "SMILES: C1CCNCC1\n",
            "prediction: Base\n",
            "confidence: 99.12%\n",
            "acid probability: 0.88%\n",
            "base probability: 99.12%\n",
            " \n"
          ]
        }
      ]
    },
    {
      "cell_type": "code",
      "source": [
        "print(\"enter a SMILES string to get a prediction.\")\n",
        "print(\"\\nexample inputs:\")\n",
        "print(\"  - CC(=O)O (acetic acid)\")\n",
        "print(\"  - CCN (ethylamine)\")\n",
        "print(\"  - c1ccccc1N (aniline)\")\n",
        "\n",
        "while True:\n",
        "    print(\"\\n\" + \"=\" * 70)\n",
        "    user_input = input(\"\\nenter SMILES string (or 'quit' to exit): \").strip()\n",
        "\n",
        "    if user_input.lower() in ['quit', 'exit', 'q']:\n",
        "        print(\"\\nthank you for using the acid-base classifier!\")\n",
        "        break\n",
        "\n",
        "    if not user_input:\n",
        "        print(\"please enter a valid SMILES string.\")\n",
        "        continue\n",
        "\n",
        "    print(\"predicting... please wait\")\n",
        "    time.sleep(0.5)\n",
        "    result = predict_molecule(user_input)\n",
        "\n",
        "    if \"error\" in result:\n",
        "        print(f\"\\nerror: {result['error']}\")\n",
        "    else:\n",
        "        print(\"\\n\" + \"=\" * 70)\n",
        "        print(f\"\\nmolecule: {result['smiles']}\")\n",
        "        print(f\"classification: {result['prediction']}\")\n",
        "        print(f\"confidence: {result['confidence']:.2f}%\")\n",
        "        print(f\"\\nprobability breakdown:\")\n",
        "        print(f\"  - ccid: {result['acid_probability']:.2f}%\")\n",
        "        print(f\"  - base: {result['base_probability']:.2f}%\")\n",
        "        print(f\"\\nmolecular properties:\")\n",
        "        print(f\"  - molecular weight: {result['molecular_weight']:.2f}\")\n",
        "        print(f\"  - logP: {result['logP']:.2f}\")"
      ],
      "metadata": {
        "colab": {
          "base_uri": "https://localhost:8080/"
        },
        "id": "OMfRDFebo2HR",
        "outputId": "85533d7b-4793-4a20-b3e4-97c87853bfeb"
      },
      "execution_count": 18,
      "outputs": [
        {
          "output_type": "stream",
          "name": "stdout",
          "text": [
            "enter a SMILES string to get a prediction.\n",
            "\n",
            "example inputs:\n",
            "  - CC(=O)O (acetic acid)\n",
            "  - CCN (ethylamine)\n",
            "  - c1ccccc1N (aniline)\n",
            "\n",
            "======================================================================\n",
            "\n",
            "enter SMILES string (or 'quit' to exit): CCN\n",
            "predicting... please wait\n",
            "\n",
            "======================================================================\n",
            "\n",
            "molecule: CCN\n",
            "classification: Base\n",
            "confidence: 96.72%\n",
            "\n",
            "probability breakdown:\n",
            "  - ccid: 3.28%\n",
            "  - base: 96.72%\n",
            "\n",
            "molecular properties:\n",
            "  - molecular weight: 45.08\n",
            "  - logP: -0.03\n",
            "\n",
            "======================================================================\n",
            "\n",
            "enter SMILES string (or 'quit' to exit): q\n",
            "\n",
            "thank you for using the acid-base classifier!\n"
          ]
        }
      ]
    },
    {
      "cell_type": "code",
      "source": [],
      "metadata": {
        "id": "HMWMz3smpqpk"
      },
      "execution_count": null,
      "outputs": []
    }
  ]
}